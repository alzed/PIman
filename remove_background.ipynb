{
  "nbformat": 4,
  "nbformat_minor": 0,
  "metadata": {
    "colab": {
      "name": "remove_background.ipynb",
      "version": "0.3.2",
      "provenance": [],
      "include_colab_link": true
    },
    "language_info": {
      "codemirror_mode": {
        "name": "ipython",
        "version": 3
      },
      "file_extension": ".py",
      "mimetype": "text/x-python",
      "name": "python",
      "nbconvert_exporter": "python",
      "pygments_lexer": "ipython3",
      "version": "3.6.5"
    },
    "kernelspec": {
      "display_name": "Python 3",
      "language": "python",
      "name": "python3"
    }
  },
  "cells": [
    {
      "cell_type": "markdown",
      "metadata": {
        "id": "view-in-github",
        "colab_type": "text"
      },
      "source": [
        "<a href=\"https://colab.research.google.com/github/madhumithapr/PIman/blob/master/remove_background.ipynb\" target=\"_parent\"><img src=\"https://colab.research.google.com/assets/colab-badge.svg\" alt=\"Open In Colab\"/></a>"
      ]
    },
    {
      "metadata": {
        "id": "lFn7KRyRij2r",
        "colab_type": "code",
        "colab": {}
      },
      "cell_type": "code",
      "source": [
        "import cv2\n",
        "import numpy as np\n",
        "import os"
      ],
      "execution_count": 0,
      "outputs": []
    },
    {
      "metadata": {
        "id": "P0o1HXlxij2v",
        "colab_type": "code",
        "colab": {}
      },
      "cell_type": "code",
      "source": [
        "def detect_edge(image, sigma=0.33):\n",
        "    v = np.median(image)\n",
        "    \n",
        "    lower = int(max(0, (1.0 - sigma) * v))\n",
        "    upper = int(min(255, (1.0 + sigma) * v))\n",
        "    edged = cv2.Canny(image, lower, upper)\n",
        "    return edged"
      ],
      "execution_count": 0,
      "outputs": []
    },
    {
      "metadata": {
        "id": "iPA8gDAqij2y",
        "colab_type": "code",
        "colab": {}
      },
      "cell_type": "code",
      "source": [
        "def image_resize(img):\n",
        "    height, width = img.shape[:2]\n",
        "    max_height = 600\n",
        "    max_width = 600\n",
        "\n",
        "# only shrink if img is bigger than required\n",
        "    if max_height < height or max_width < width:\n",
        "    # get scaling factor\n",
        "        scaling_factor = max_height / float(height)\n",
        "        if max_width/float(width) < scaling_factor:\n",
        "            scaling_factor = max_width / float(width)\n",
        "    # resize image\n",
        "        img = cv2.resize(img, None, fx=scaling_factor, fy=scaling_factor, interpolation=cv2.INTER_AREA)\n",
        "\n",
        "    return img"
      ],
      "execution_count": 0,
      "outputs": []
    },
    {
      "metadata": {
        "id": "0fNFtA2Vij21",
        "colab_type": "code",
        "colab": {}
      },
      "cell_type": "code",
      "source": [
        "def remove_bg(image, d_folder):\n",
        "    BLUR = 21\n",
        "    MASK_DILATE_ITER = 10\n",
        "    MASK_ERODE_ITER = 10\n",
        "\n",
        "#-- Read image -----------------------------------------------------------------------\n",
        "    img = cv2.imread(image)\n",
        "    img = image_resize(img)\n",
        "    gray = cv2.cvtColor(img,cv2.COLOR_BGR2GRAY)\n",
        "\n",
        "#-- Edge detection -------------------------------------------------------------------\n",
        "    edges = detect_edge(gray)\n",
        "       \n",
        "    edges = cv2.dilate(edges, None)\n",
        "    edges = cv2.erode(edges, None)\n",
        "\n",
        "    contour_info = []\n",
        "    contours, _ = cv2.findContours(edges, cv2.RETR_LIST, cv2.CHAIN_APPROX_NONE)\n",
        "\n",
        "    for c in contours:\n",
        "        contour_info.append((\n",
        "            c,\n",
        "            cv2.isContourConvex(c),\n",
        "            cv2.contourArea(c),\n",
        "        ))\n",
        "    contour_info = sorted(contour_info, key=lambda c: c[2], reverse=True)\n",
        "    max_contour = contour_info[0]\n",
        "    \n",
        "    #-- Create empty mask, draw edges on it corresponding to largest contour ----\n",
        "    # Mask is black, edge shape is white\n",
        "    mask = np.zeros(edges.shape, dtype=\"uint8\")\n",
        "    cv2.fillConvexPoly(mask, max_contour[0], (255))\n",
        "\n",
        "#-- Smooth mask, then blur it --------------------------------------------------------\n",
        "    mask = cv2.dilate(mask, None, iterations=MASK_DILATE_ITER)\n",
        "    mask = cv2.erode(mask, None, iterations=MASK_ERODE_ITER)\n",
        "    #mask = cv2.GaussianBlur(mask, (BLUR, BLUR), 0)\n",
        "\n",
        "    img_a = cv2.bitwise_and(img, img, mask=mask)\n",
        "    \n",
        "# save to disk\n",
        "    img_name = image.split('/')[-1]\n",
        "    dest = os.path.join(d_folder, 'masked_' + img_name)\n",
        "    cv2.imwrite(dest, img_a)"
      ],
      "execution_count": 0,
      "outputs": []
    },
    {
      "metadata": {
        "id": "Lu_n8y2Lij23",
        "colab_type": "code",
        "colab": {}
      },
      "cell_type": "code",
      "source": [
        "input_folder = #Path\n",
        "\n",
        "output_folder = #Path\n",
        "\n",
        "for image_path in glob.glob(input_folder):\n",
        "  remove_bg(image_path, output_folder)"
      ],
      "execution_count": 0,
      "outputs": []
    }
  ]
}